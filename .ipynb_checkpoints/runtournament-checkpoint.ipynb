{
 "cells": [
  {
   "cell_type": "code",
   "execution_count": 182,
   "metadata": {},
   "outputs": [],
   "source": [
    "import swisspair\n",
    "swisspair = reload(swisspair)\n",
    "from swisspair import Tournament\n",
    "import random\n",
    "import os\n",
    "import pandas as pd"
   ]
  },
  {
   "cell_type": "code",
   "execution_count": 183,
   "metadata": {
    "scrolled": true
   },
   "outputs": [
    {
     "data": {
      "text/html": [
       "<div>\n",
       "<style>\n",
       "    .dataframe thead tr:only-child th {\n",
       "        text-align: right;\n",
       "    }\n",
       "\n",
       "    .dataframe thead th {\n",
       "        text-align: left;\n",
       "    }\n",
       "\n",
       "    .dataframe tbody tr th {\n",
       "        vertical-align: top;\n",
       "    }\n",
       "</style>\n",
       "<table border=\"1\" class=\"dataframe\">\n",
       "  <thead>\n",
       "    <tr style=\"text-align: right;\">\n",
       "      <th></th>\n",
       "      <th>ID:</th>\n",
       "      <th>Name:</th>\n",
       "    </tr>\n",
       "  </thead>\n",
       "  <tbody>\n",
       "    <tr>\n",
       "      <th>0</th>\n",
       "      <td>1</td>\n",
       "      <td>Jeff</td>\n",
       "    </tr>\n",
       "    <tr>\n",
       "      <th>1</th>\n",
       "      <td>2</td>\n",
       "      <td>Timmy</td>\n",
       "    </tr>\n",
       "    <tr>\n",
       "      <th>2</th>\n",
       "      <td>3</td>\n",
       "      <td>John</td>\n",
       "    </tr>\n",
       "    <tr>\n",
       "      <th>3</th>\n",
       "      <td>4</td>\n",
       "      <td>Blarg</td>\n",
       "    </tr>\n",
       "    <tr>\n",
       "      <th>4</th>\n",
       "      <td>5</td>\n",
       "      <td>Yeti</td>\n",
       "    </tr>\n",
       "    <tr>\n",
       "      <th>5</th>\n",
       "      <td>6</td>\n",
       "      <td>Yugen</td>\n",
       "    </tr>\n",
       "    <tr>\n",
       "      <th>6</th>\n",
       "      <td>7</td>\n",
       "      <td>Blogger</td>\n",
       "    </tr>\n",
       "    <tr>\n",
       "      <th>7</th>\n",
       "      <td>8</td>\n",
       "      <td>Kelly</td>\n",
       "    </tr>\n",
       "    <tr>\n",
       "      <th>8</th>\n",
       "      <td>9</td>\n",
       "      <td>Clark</td>\n",
       "    </tr>\n",
       "  </tbody>\n",
       "</table>\n",
       "</div>"
      ],
      "text/plain": [
       "   ID:    Name:\n",
       "0    1     Jeff\n",
       "1    2    Timmy\n",
       "2    3     John\n",
       "3    4    Blarg\n",
       "4    5     Yeti\n",
       "5    6    Yugen\n",
       "6    7  Blogger\n",
       "7    8    Kelly\n",
       "8    9    Clark"
      ]
     },
     "execution_count": 183,
     "metadata": {},
     "output_type": "execute_result"
    }
   ],
   "source": [
    "player_short_list = pd.read_csv('playershortlist.csv')\n",
    "player_short_list"
   ]
  },
  {
   "cell_type": "code",
   "execution_count": 177,
   "metadata": {},
   "outputs": [
    {
     "name": "stdout",
     "output_type": "stream",
     "text": [
      "The pairings in round 1 is:\n",
      "[['1', '8'], ['3', '9'], ['2', '6'], ['5', '7']]\n",
      "\n",
      "The match result in round 1 is:\n",
      "[['1', '8', 1], ['3', '9', -1], ['2', '6', -1], ['5', '7', -1]]\n",
      "\n",
      "The score of every player aftter round 1 is:\n",
      "[['1', 3], ['4', 3], ['7', 3], ['6', 3], ['9', 3], ['3', 0], ['2', 0], ['5', 0], ['8', 0]]\n",
      "\n"
     ]
    }
   ],
   "source": [
    "tournament = Tournament(3,1)\n",
    "#round 1\n",
    "tournament.load_players(\"playershortlist.csv\")\n",
    "pairings_1 = tournament.pair_round()\n",
    "\n",
    "print(\"The pairings in round %s is:\"%tournament.current_round)\n",
    "print str(pairings_1) + '\\n'\n",
    "\n",
    "match_result_1 = []\n",
    "for [p1, p2] in pairings_1:\n",
    "        game_result = random.randint(-1, 1)\n",
    "        match_result_1.append([p1, p2, game_result])\n",
    "        tournament.report_match([[p1, p2, game_result]])\n",
    "        \n",
    "print(\"The match result in round %s is:\"%tournament.current_round) \n",
    "print str(match_result_1) + '\\n'\n",
    "tournament.save_event(\"./playersdump_1.txt\")\n",
    "\n",
    "print(\"The score of every player aftter round %s is:\"%tournament.current_round)\n",
    "print str(tournament.players_points()) + '\\n'"
   ]
  },
  {
   "cell_type": "code",
   "execution_count": 178,
   "metadata": {},
   "outputs": [
    {
     "name": "stdout",
     "output_type": "stream",
     "text": [
      "The pairings in round 2 is:\n",
      "[['1', '6'], ['9', '7'], ['8', '3'], ['5', '4']]\n",
      "\n",
      "The match result in round 2 is:\n",
      "[['1', '6', -1], ['9', '7', -1], ['8', '3', 1], ['5', '4', 0]]\n",
      "\n",
      "The score of every player aftter round 2 is:\n",
      "[['7', 6], ['6', 6], ['4', 4], ['1', 3], ['2', 3], ['9', 3], ['8', 3], ['5', 1], ['3', 0]]\n",
      "\n"
     ]
    }
   ],
   "source": [
    "#round 2\n",
    "tournament = Tournament(3,1)\n",
    "tournament.load_event('./playersdump_1.txt')\n",
    "\n",
    "pairings_2 = tournament.pair_round()\n",
    "\n",
    "print(\"The pairings in round %s is:\"%tournament.current_round)\n",
    "print(str(pairings_2) + '\\n')\n",
    "\n",
    "match_result_2 = []\n",
    "for [p1, p2] in pairings_2:\n",
    "        game_result = random.randint(-1, 1)\n",
    "        match_result_2.append([p1, p2, game_result])\n",
    "        tournament.report_match([[p1, p2, game_result]])\n",
    "        \n",
    "print(\"The match result in round %s is:\"%tournament.current_round) \n",
    "print str(match_result_2) + '\\n'\n",
    "tournament.save_event(\"./playersdump_2.txt\")\n",
    "\n",
    "print(\"The score of every player aftter round %s is:\"%tournament.current_round)\n",
    "print str(tournament.players_points()) + '\\n'"
   ]
  },
  {
   "cell_type": "code",
   "execution_count": 179,
   "metadata": {},
   "outputs": [
    {
     "name": "stdout",
     "output_type": "stream",
     "text": [
      "The pairings in round 3 is:\n",
      "[['7', '6'], ['1', '9'], ['8', '4'], ['2', '5']]\n",
      "\n",
      "The match result in round 3 is:\n",
      "[['7', '6', 1], ['1', '9', -1], ['8', '4', 0], ['2', '5', 0]]\n",
      "\n",
      "The score of every player aftter round 3 is:\n",
      "[['7', 9], ['6', 6], ['9', 6], ['4', 5], ['2', 4], ['8', 4], ['1', 3], ['3', 3], ['5', 2]]\n",
      "\n"
     ]
    }
   ],
   "source": [
    "#round 3\n",
    "tournament = Tournament(3,1)\n",
    "tournament.load_event('./playersdump_2.txt')\n",
    "\n",
    "pairings_3 = tournament.pair_round()\n",
    "\n",
    "print(\"The pairings in round %s is:\"%tournament.current_round)\n",
    "print(str(pairings_3) + '\\n')\n",
    "\n",
    "match_result_3 = []\n",
    "for [p1, p2] in pairings_3:\n",
    "        game_result = random.randint(-1, 1)\n",
    "        match_result_3.append([p1, p2, game_result])\n",
    "        tournament.report_match([[p1, p2, game_result]])\n",
    "        \n",
    "print(\"The match result in round %s is:\"%tournament.current_round) \n",
    "print str(match_result_3) + '\\n'\n",
    "tournament.save_event(\"./playersdump_3.txt\")\n",
    "\n",
    "print(\"The score of every player aftter round %s is:\"%tournament.current_round)\n",
    "print str(tournament.players_points()) + '\\n'\n"
   ]
  },
  {
   "cell_type": "code",
   "execution_count": 180,
   "metadata": {},
   "outputs": [
    {
     "name": "stdout",
     "output_type": "stream",
     "text": [
      "The pairings in round 4 is:\n",
      "[['9', '6'], ['4', '7'], ['8', '2'], ['1', '3']]\n",
      "\n",
      "The match result in round 4 is:\n",
      "[['9', '6', 1], ['4', '7', 1], ['8', '2', 0], ['1', '3', -1]]\n",
      "\n",
      "The score of every player aftter round 4 is:\n",
      "[['7', 9], ['9', 9], ['4', 8], ['3', 6], ['6', 6], ['2', 5], ['5', 5], ['8', 5], ['1', 3]]\n",
      "\n"
     ]
    }
   ],
   "source": [
    "#round 4\n",
    "tournament = Tournament(3,1)\n",
    "tournament.load_event('./playersdump_3.txt')\n",
    "\n",
    "pairings_4 = tournament.pair_round()\n",
    "print(\"The pairings in round %s is:\"%tournament.current_round)\n",
    "print str(pairings_4) + '\\n'\n",
    "\n",
    "match_result_4 = []\n",
    "for [p1, p2] in pairings_4:\n",
    "        game_result = random.randint(-1, 1)\n",
    "        match_result_4.append([p1, p2, game_result])\n",
    "        tournament.report_match([[p1, p2, game_result]])\n",
    "\n",
    "print(\"The match result in round %s is:\"%tournament.current_round) \n",
    "print str(match_result_4) + '\\n'\n",
    "tournament.save_event(\"./playersdump_4.txt\")\n",
    "\n",
    "print(\"The score of every player aftter round %s is:\"%tournament.current_round)\n",
    "print str(tournament.players_points()) + '\\n'"
   ]
  },
  {
   "cell_type": "code",
   "execution_count": 181,
   "metadata": {},
   "outputs": [
    {
     "name": "stdout",
     "output_type": "stream",
     "text": [
      "The pairings in round 5 is:\n",
      "[['9', '4'], ['3', '7'], ['8', '6'], ['1', '5']]\n",
      "\n",
      "The match result in round 5 is:\n",
      "[['9', '4', 1], ['3', '7', 1], ['8', '6', -1], ['1', '5', 0]]\n",
      "\n",
      "The score of every player aftter round 5 is:\n",
      "[['9', 12], ['3', 9], ['7', 9], ['6', 9], ['2', 8], ['4', 8], ['5', 6], ['8', 5], ['1', 4]]\n",
      "\n"
     ]
    }
   ],
   "source": [
    "#round 5\n",
    "tournament = Tournament(3,1)\n",
    "tournament.load_event('./playersdump_4.txt')\n",
    "\n",
    "pairings_5 = tournament.pair_round()\n",
    "print(\"The pairings in round %s is:\"%tournament.current_round)\n",
    "print str(pairings_5) + '\\n'\n",
    "\n",
    "match_result_5 = []\n",
    "for [p1, p2] in pairings_5:\n",
    "        game_result = random.randint(-1, 1)\n",
    "        match_result_5.append([p1, p2, game_result])\n",
    "        tournament.report_match([[p1, p2, game_result]])\n",
    "        \n",
    "print(\"The match result in round %s is:\"%tournament.current_round) \n",
    "print str(match_result_5) + '\\n'\n",
    "tournament.save_event(\"./playersdump_5.txt\")\n",
    "\n",
    "print(\"The score of every player aftter round %s is:\"%tournament.current_round)\n",
    "print str(tournament.players_points()) + '\\n'"
   ]
  },
  {
   "cell_type": "code",
   "execution_count": null,
   "metadata": {
    "collapsed": true
   },
   "outputs": [],
   "source": []
  }
 ],
 "metadata": {
  "kernelspec": {
   "display_name": "Python 2",
   "language": "python",
   "name": "python2"
  },
  "language_info": {
   "codemirror_mode": {
    "name": "ipython",
    "version": 2
   },
   "file_extension": ".py",
   "mimetype": "text/x-python",
   "name": "python",
   "nbconvert_exporter": "python",
   "pygments_lexer": "ipython2",
   "version": "2.7.13"
  }
 },
 "nbformat": 4,
 "nbformat_minor": 2
}
