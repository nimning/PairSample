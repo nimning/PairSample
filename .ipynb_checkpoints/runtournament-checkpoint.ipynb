{
 "cells": [
  {
   "cell_type": "code",
   "execution_count": 84,
   "metadata": {},
   "outputs": [],
   "source": [
    "import swisspair\n",
    "swisspair = reload(swisspair)\n",
    "\n",
    "from swisspair import Tournament\n",
    "import random\n",
    "import os\n",
    "tournament = Tournament(3,1)"
   ]
  },
  {
   "cell_type": "code",
   "execution_count": 85,
   "metadata": {},
   "outputs": [
    {
     "name": "stdout",
     "output_type": "stream",
     "text": [
      "The pairings in round 1 is:\n",
      "[[1, 17], [2, 16], [3, 15], [4, 14], [5, 13], [6, 12], [7, 11], [8, 10]]\n",
      "\n",
      "The match result in round 1 is:\n",
      "[[1, 17, -1], [2, 16, 0], [3, 15, 1], [4, 14, -1], [5, 13, 1], [6, 12, 1], [7, 11, 0], [8, 10, 0]]\n",
      "\n",
      "players information\n",
      "{1: {'points': 0, 'results': [-1], 'name': 'Jeff', 'opponents': set([17])}, 2: {'points': 1, 'results': [0], 'name': 'Timmy', 'opponents': set([16])}, 3: {'points': 3, 'results': [1], 'name': 'John', 'opponents': set([15])}, 4: {'points': 0, 'results': [-1], 'name': 'Blarg', 'opponents': set([14])}, 5: {'points': 3, 'results': [1], 'name': 'Yeti', 'opponents': set([13])}, 6: {'points': 3, 'results': [1], 'name': 'Yugen', 'opponents': set([12])}, 7: {'points': 1, 'results': [0], 'name': 'Blogger', 'opponents': set([11])}, 8: {'points': 1, 'results': [0], 'name': 'Kelly', 'opponents': set([10])}, 9: {'points': 3, 'results': [1], 'name': 'Clark', 'opponents': set(['bye'])}, 10: {'points': 1, 'results': [0], 'name': 'James', 'opponents': set([8])}, 11: {'points': 1, 'results': [0], 'name': 'Jonny', 'opponents': set([7])}, 12: {'points': 0, 'results': [-1], 'name': 'Jacob', 'opponents': set([6])}, 13: {'points': 0, 'results': [-1], 'name': 'Kristi', 'opponents': set([5])}, 14: {'points': 3, 'results': [1], 'name': 'Brian', 'opponents': set([4])}, 15: {'points': 0, 'results': [-1], 'name': 'Johnson', 'opponents': set([3])}, 16: {'points': 1, 'results': [0], 'name': 'Kenny', 'opponents': set([2])}, 17: {'points': 3, 'results': [1], 'name': 'Carrie', 'opponents': set([1])}}\n",
      "\n",
      "\n"
     ]
    }
   ],
   "source": [
    "#round 1\n",
    "tournament.load_players(\"playerlist.csv\")\n",
    "\n",
    "pairings_1 = tournament.pair_round()\n",
    "print(\"The pairings in round %s is:\"%tournament.current_round)\n",
    "print(pairings_1)\n",
    "\n",
    "match_result_1 = []\n",
    "for [p1, p2] in pairings_1:\n",
    "        game_result = random.randint(-1, 1)\n",
    "        match_result_1.append([p1, p2, game_result])\n",
    "        tournament.report_match([[p1, p2, game_result]])\n",
    "print (\"\")\n",
    "print(\"The match result in round %s is:\"%tournament.current_round) \n",
    "print match_result_1\n",
    "tournament.save_event(\"./playersdump_1.txt\")\n",
    "print (\"\")\n",
    "print(\"players information\")\n",
    "print tournament.players\n",
    "print(\"\")\n",
    "#print to.playersDict[256]\n",
    "print(\"\")"
   ]
  },
  {
   "cell_type": "code",
   "execution_count": 86,
   "metadata": {},
   "outputs": [
    {
     "name": "stdout",
     "output_type": "stream",
     "text": [
      "The pairings in round 2 is:\n",
      "[[3, 14], [5, 6], [9, 17], [2, 11], [7, 10], [8, 16], [1, 15], [12, 4]]\n",
      "\n",
      "The match result in round 2 is:\n",
      "[[3, 14, 0], [5, 6, -1], [9, 17, 0], [2, 11, 0], [7, 10, 1], [8, 16, -1], [1, 15, 0], [12, 4, 0]]\n",
      "\n",
      "players information\n",
      "{1: {'points': 1, 'results': [-1, 0], 'name': 'Jeff', 'opponents': set([17, 15])}, 2: {'points': 2, 'results': [0, 0], 'name': 'Timmy', 'opponents': set([16, 11])}, 3: {'points': 4, 'results': [1, 0], 'name': 'John', 'opponents': set([14, 15])}, 4: {'points': 1, 'results': [-1, 0], 'name': 'Blarg', 'opponents': set([12, 14])}, 5: {'points': 3, 'results': [1, -1], 'name': 'Yeti', 'opponents': set([13, 6])}, 6: {'points': 6, 'results': [1, 1], 'name': 'Yugen', 'opponents': set([12, 5])}, 7: {'points': 4, 'results': [0, 1], 'name': 'Blogger', 'opponents': set([10, 11])}, 8: {'points': 1, 'results': [0, -1], 'name': 'Kelly', 'opponents': set([16, 10])}, 9: {'points': 4, 'results': [1, 0], 'name': 'Clark', 'opponents': set([17, 'bye'])}, 10: {'points': 1, 'results': [0, -1], 'name': 'James', 'opponents': set([8, 7])}, 11: {'points': 2, 'results': [0, 0], 'name': 'Jonny', 'opponents': set([2, 7])}, 12: {'points': 1, 'results': [-1, 0], 'name': 'Jacob', 'opponents': set([4, 6])}, 13: {'points': 3, 'results': [-1, 1], 'name': 'Kristi', 'opponents': set(['bye', 5])}, 14: {'points': 4, 'results': [1, 0], 'name': 'Brian', 'opponents': set([3, 4])}, 15: {'points': 1, 'results': [-1, 0], 'name': 'Johnson', 'opponents': set([1, 3])}, 16: {'points': 4, 'results': [0, 1], 'name': 'Kenny', 'opponents': set([8, 2])}, 17: {'points': 4, 'results': [1, 0], 'name': 'Carrie', 'opponents': set([1, 9])}}\n",
      "\n",
      "\n"
     ]
    }
   ],
   "source": [
    "#round 2\n",
    "pairings_2 = tournament.pair_round()\n",
    "print(\"The pairings in round %s is:\"%tournament.current_round)\n",
    "print(pairings_2)\n",
    "\n",
    "match_result_2 = []\n",
    "for [p1, p2] in pairings_2:\n",
    "        game_result = random.randint(-1, 1)\n",
    "        match_result_2.append([p1, p2, game_result])\n",
    "        tournament.report_match([[p1, p2, game_result]])\n",
    "print (\"\")\n",
    "print(\"The match result in round %s is:\"%tournament.current_round) \n",
    "print match_result_2\n",
    "tournament.save_event(\"./playersdump_2.txt\")\n",
    "print (\"\")\n",
    "print(\"players information\")\n",
    "print tournament.players\n",
    "print(\"\")\n",
    "#print to.playersDict[256]\n",
    "print(\"\")"
   ]
  },
  {
   "cell_type": "code",
   "execution_count": 87,
   "metadata": {},
   "outputs": [
    {
     "name": "stdout",
     "output_type": "stream",
     "text": [
      "The pairings in round 3 is:\n",
      "[[3, 16], [6, 17], [9, 14], [13, 7], [2, 5], [1, 8], [10, 12], [11, 15]]\n",
      "\n",
      "The match result in round 3 is:\n",
      "[[3, 16, 0], [6, 17, 0], [9, 14, -1], [13, 7, 0], [2, 5, 0], [1, 8, 1], [10, 12, 0], [11, 15, 0]]\n",
      "\n",
      "players information\n",
      "{1: {'points': 4, 'results': [-1, 0, 1], 'name': 'Jeff', 'opponents': set([8, 17, 15])}, 2: {'points': 3, 'results': [0, 0, 0], 'name': 'Timmy', 'opponents': set([16, 11, 5])}, 3: {'points': 5, 'results': [1, 0, 0], 'name': 'John', 'opponents': set([16, 14, 15])}, 4: {'points': 4, 'results': [-1, 0, 1], 'name': 'Blarg', 'opponents': set(['bye', 12, 14])}, 5: {'points': 4, 'results': [1, -1, 0], 'name': 'Yeti', 'opponents': set([2, 13, 6])}, 6: {'points': 7, 'results': [1, 1, 0], 'name': 'Yugen', 'opponents': set([17, 12, 5])}, 7: {'points': 5, 'results': [0, 1, 0], 'name': 'Blogger', 'opponents': set([10, 11, 13])}, 8: {'points': 1, 'results': [0, -1, -1], 'name': 'Kelly', 'opponents': set([16, 1, 10])}, 9: {'points': 4, 'results': [1, 0, -1], 'name': 'Clark', 'opponents': set([17, 'bye', 14])}, 10: {'points': 2, 'results': [0, -1, 0], 'name': 'James', 'opponents': set([8, 12, 7])}, 11: {'points': 3, 'results': [0, 0, 0], 'name': 'Jonny', 'opponents': set([2, 15, 7])}, 12: {'points': 2, 'results': [-1, 0, 0], 'name': 'Jacob', 'opponents': set([10, 4, 6])}, 13: {'points': 4, 'results': [-1, 1, 0], 'name': 'Kristi', 'opponents': set(['bye', 5, 7])}, 14: {'points': 7, 'results': [1, 0, 1], 'name': 'Brian', 'opponents': set([9, 3, 4])}, 15: {'points': 2, 'results': [-1, 0, 0], 'name': 'Johnson', 'opponents': set([11, 1, 3])}, 16: {'points': 5, 'results': [0, 1, 0], 'name': 'Kenny', 'opponents': set([8, 2, 3])}, 17: {'points': 5, 'results': [1, 0, 0], 'name': 'Carrie', 'opponents': set([1, 6, 9])}}\n",
      "\n",
      "\n"
     ]
    }
   ],
   "source": [
    "#round 3\n",
    "pairings_3 = tournament.pair_round()\n",
    "print(\"The pairings in round %s is:\"%tournament.current_round)\n",
    "print(pairings_3)\n",
    "\n",
    "match_result_3 = []\n",
    "for [p1, p2] in pairings_3:\n",
    "        game_result = random.randint(-1, 1)\n",
    "        match_result_3.append([p1, p2, game_result])\n",
    "        tournament.report_match([[p1, p2, game_result]])\n",
    "print (\"\")\n",
    "print(\"The match result in round %s is:\"%tournament.current_round) \n",
    "print match_result_3\n",
    "tournament.save_event(\"./playersdump_3.txt\")\n",
    "print (\"\")\n",
    "print(\"players information\")\n",
    "print tournament.players\n",
    "print(\"\")\n",
    "#print to.playersDict[256]\n",
    "print(\"\")"
   ]
  },
  {
   "cell_type": "code",
   "execution_count": 88,
   "metadata": {},
   "outputs": [
    {
     "name": "stdout",
     "output_type": "stream",
     "text": [
      "The pairings in round 4 is:\n",
      "[[14, 6], [16, 7], [17, 3], [9, 1], [4, 5], [2, 13], [10, 15], [11, 12]]\n",
      "\n",
      "The match result in round 4 is:\n",
      "[[14, 6, -1], [16, 7, -1], [17, 3, 0], [9, 1, 1], [4, 5, 1], [2, 13, 1], [10, 15, 1], [11, 12, -1]]\n",
      "\n",
      "players information\n",
      "{1: {'points': 4, 'results': [-1, 0, 1, -1], 'name': 'Jeff', 'opponents': set([8, 17, 9, 15])}, 2: {'points': 6, 'results': [0, 0, 0, 1], 'name': 'Timmy', 'opponents': set([16, 11, 5, 13])}, 3: {'points': 6, 'results': [1, 0, 0, 0], 'name': 'John', 'opponents': set([16, 17, 14, 15])}, 4: {'points': 7, 'results': [-1, 0, 1, 1], 'name': 'Blarg', 'opponents': set(['bye', 12, 5, 14])}, 5: {'points': 4, 'results': [1, -1, 0, -1], 'name': 'Yeti', 'opponents': set([2, 4, 13, 6])}, 6: {'points': 10, 'results': [1, 1, 0, 1], 'name': 'Yugen', 'opponents': set([17, 12, 5, 14])}, 7: {'points': 8, 'results': [0, 1, 0, 1], 'name': 'Blogger', 'opponents': set([16, 10, 11, 13])}, 8: {'points': 4, 'results': [0, -1, -1, 1], 'name': 'Kelly', 'opponents': set([16, 1, 10, 'bye'])}, 9: {'points': 7, 'results': [1, 0, -1, 1], 'name': 'Clark', 'opponents': set([17, 'bye', 14, 1])}, 10: {'points': 5, 'results': [0, -1, 0, 1], 'name': 'James', 'opponents': set([8, 15, 12, 7])}, 11: {'points': 3, 'results': [0, 0, 0, -1], 'name': 'Jonny', 'opponents': set([2, 15, 12, 7])}, 12: {'points': 5, 'results': [-1, 0, 0, 1], 'name': 'Jacob', 'opponents': set([10, 11, 4, 6])}, 13: {'points': 4, 'results': [-1, 1, 0, -1], 'name': 'Kristi', 'opponents': set([2, 'bye', 5, 7])}, 14: {'points': 7, 'results': [1, 0, 1, -1], 'name': 'Brian', 'opponents': set([9, 3, 4, 6])}, 15: {'points': 2, 'results': [-1, 0, 0, -1], 'name': 'Johnson', 'opponents': set([11, 1, 10, 3])}, 16: {'points': 5, 'results': [0, 1, 0, -1], 'name': 'Kenny', 'opponents': set([8, 2, 3, 7])}, 17: {'points': 6, 'results': [1, 0, 0, 0], 'name': 'Carrie', 'opponents': set([1, 3, 6, 9])}}\n",
      "\n",
      "\n"
     ]
    }
   ],
   "source": [
    "#round 4\n",
    "pairings_4 = tournament.pair_round()\n",
    "print(\"The pairings in round %s is:\"%tournament.current_round)\n",
    "print(pairings_4)\n",
    "\n",
    "match_result_4 = []\n",
    "for [p1, p2] in pairings_4:\n",
    "        game_result = random.randint(-1, 1)\n",
    "        match_result_4.append([p1, p2, game_result])\n",
    "        tournament.report_match([[p1, p2, game_result]])\n",
    "print (\"\")\n",
    "print(\"The match result in round %s is:\"%tournament.current_round) \n",
    "print match_result_4\n",
    "tournament.save_event(\"./playersdump_4.txt\")\n",
    "print (\"\")\n",
    "print(\"players information\")\n",
    "print tournament.players\n",
    "print(\"\")\n",
    "#print to.playersDict[256]\n",
    "print(\"\")"
   ]
  },
  {
   "cell_type": "code",
   "execution_count": 89,
   "metadata": {},
   "outputs": [
    {
     "name": "stdout",
     "output_type": "stream",
     "text": [
      "The pairings in round 5 is:\n",
      "[[6, 7], [9, 4], [17, 14], [2, 3], [16, 12], [8, 5], [10, 13], [1, 11]]\n",
      "\n",
      "The match result in round 5 is:\n",
      "[[6, 7, 1], [9, 4, 1], [17, 14, -1], [2, 3, 1], [16, 12, 1], [8, 5, 1], [10, 13, 0], [1, 11, -1]]\n",
      "\n",
      "players information\n",
      "{1: {'points': 4, 'results': [-1, 0, 1, -1, -1], 'name': 'Jeff', 'opponents': set([8, 17, 11, 9, 15])}, 2: {'points': 9, 'results': [0, 0, 0, 1, 1], 'name': 'Timmy', 'opponents': set([16, 3, 11, 5, 13])}, 3: {'points': 6, 'results': [1, 0, 0, 0, -1], 'name': 'John', 'opponents': set([16, 17, 2, 14, 15])}, 4: {'points': 7, 'results': [-1, 0, 1, 1, -1], 'name': 'Blarg', 'opponents': set([9, 'bye', 12, 5, 14])}, 5: {'points': 4, 'results': [1, -1, 0, -1, -1], 'name': 'Yeti', 'opponents': set([8, 2, 4, 13, 6])}, 6: {'points': 13, 'results': [1, 1, 0, 1, 1], 'name': 'Yugen', 'opponents': set([17, 12, 5, 14, 7])}, 7: {'points': 8, 'results': [0, 1, 0, 1, -1], 'name': 'Blogger', 'opponents': set([16, 10, 11, 13, 6])}, 8: {'points': 7, 'results': [0, -1, -1, 1, 1], 'name': 'Kelly', 'opponents': set([16, 1, 10, 'bye', 5])}, 9: {'points': 10, 'results': [1, 0, -1, 1, 1], 'name': 'Clark', 'opponents': set([17, 'bye', 4, 14, 1])}, 10: {'points': 6, 'results': [0, -1, 0, 1, 0], 'name': 'James', 'opponents': set([8, 15, 12, 13, 7])}, 11: {'points': 6, 'results': [0, 0, 0, -1, 1], 'name': 'Jonny', 'opponents': set([1, 2, 15, 12, 7])}, 12: {'points': 5, 'results': [-1, 0, 0, 1, -1], 'name': 'Jacob', 'opponents': set([16, 10, 11, 4, 6])}, 13: {'points': 5, 'results': [-1, 1, 0, -1, 0], 'name': 'Kristi', 'opponents': set([10, 2, 'bye', 5, 7])}, 14: {'points': 10, 'results': [1, 0, 1, -1, 1], 'name': 'Brian', 'opponents': set([9, 3, 4, 6, 17])}, 15: {'points': 5, 'results': [-1, 0, 0, -1, 1], 'name': 'Johnson', 'opponents': set([11, 1, 10, 3, 'bye'])}, 16: {'points': 8, 'results': [0, 1, 0, -1, 1], 'name': 'Kenny', 'opponents': set([8, 2, 3, 12, 7])}, 17: {'points': 6, 'results': [1, 0, 0, 0, -1], 'name': 'Carrie', 'opponents': set([1, 3, 14, 6, 9])}}\n",
      "\n",
      "\n"
     ]
    }
   ],
   "source": [
    "#round 5\n",
    "pairings_5 = tournament.pair_round()\n",
    "print(\"The pairings in round %s is:\"%tournament.current_round)\n",
    "print(pairings_5)\n",
    "\n",
    "match_result_5 = []\n",
    "for [p1, p2] in pairings_5:\n",
    "        game_result = random.randint(-1, 1)\n",
    "        match_result_5.append([p1, p2, game_result])\n",
    "        tournament.report_match([[p1, p2, game_result]])\n",
    "print (\"\")\n",
    "print(\"The match result in round %s is:\"%tournament.current_round) \n",
    "print match_result_5\n",
    "tournament.save_event(\"./playersdump_5.txt\")\n",
    "print (\"\")\n",
    "print(\"players information\")\n",
    "print tournament.players\n",
    "print(\"\")\n",
    "#print to.playersDict[256]\n",
    "print(\"\")"
   ]
  },
  {
   "cell_type": "code",
   "execution_count": 15,
   "metadata": {},
   "outputs": [
    {
     "name": "stdout",
     "output_type": "stream",
     "text": [
      "['this', 'that', 3]\n",
      "1\n"
     ]
    }
   ],
   "source": [
    "a = ['this', 'that', 3]\n",
    "print a\n",
    "print random.randint(-1,2)"
   ]
  },
  {
   "cell_type": "code",
   "execution_count": null,
   "metadata": {
    "collapsed": true
   },
   "outputs": [],
   "source": []
  },
  {
   "cell_type": "code",
   "execution_count": null,
   "metadata": {
    "collapsed": true
   },
   "outputs": [],
   "source": []
  }
 ],
 "metadata": {
  "kernelspec": {
   "display_name": "Python 2",
   "language": "python",
   "name": "python2"
  },
  "language_info": {
   "codemirror_mode": {
    "name": "ipython",
    "version": 2
   },
   "file_extension": ".py",
   "mimetype": "text/x-python",
   "name": "python",
   "nbconvert_exporter": "python",
   "pygments_lexer": "ipython2",
   "version": "2.7.13"
  }
 },
 "nbformat": 4,
 "nbformat_minor": 2
}
