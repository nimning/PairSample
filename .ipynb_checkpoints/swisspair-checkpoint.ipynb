{
 "cells": [
  {
   "cell_type": "code",
   "execution_count": 9,
   "metadata": {},
   "outputs": [
    {
     "name": "stdout",
     "output_type": "stream",
     "text": [
      "{1: {2: {'weight': 1}, 3: {'weight': 5}, 4: {'weight': 2}}, 2: {1: {'weight': 1}, 3: {'weight': 6}, 4: {'weight': 3}}, 3: {1: {'weight': 5}, 2: {'weight': 6}, 4: {'weight': 4}}, 4: {1: {'weight': 2}, 2: {'weight': 3}, 3: {'weight': 4}}, 5: {6: {'weight': 4}}, 6: {5: {'weight': 4}, 7: {'weight': 5}}, 7: {6: {'weight': 5}}, 8: {9: {'weight': 6}}, 9: {8: {'weight': 6}}, 11: {}, 12: {}}\n",
      "[1, 2, 3, 4, 5, 6, 7, 8, 9, 11, 12]\n"
     ]
    },
    {
     "data": {
      "image/png": "[encoded data removed]",
      "text/plain": [
       "<matplotlib.figure.Figure at 0x632b0f0>"
      ]
     },
     "metadata": {},
     "output_type": "display_data"
    }
   ],
   "source": []
  },
  {
   "cell_type": "code",
   "execution_count": 11,
   "metadata": {},
   "outputs": [
    {
     "name": "stdout",
     "output_type": "stream",
     "text": [
      "{1: 4, 2: 3, 3: 2, 4: 1, 6: 7, 7: 6, 8: 9, 9: 8}\n"
     ]
    },
    {
     "data": {
      "text/plain": [
       "[3, 4]"
      ]
     },
     "execution_count": 11,
     "metadata": {},
     "output_type": "execute_result"
    }
   ],
   "source": [
    "#get a matching such that the sum of weight in the matching is maximum\n",
    "#a mathcing is a subset of edges so that no two edges in the matching share a common vertex\n",
    "pairs = nx.max_weight_matching(graph)\n",
    "print pairs\n",
    "cc = list([2,3,4])\n",
    "cc.pop(0)\n",
    "cc"
   ]
  },
  {
   "cell_type": "code",
   "execution_count": 6,
   "metadata": {
    "scrolled": true
   },
   "outputs": [
    {
     "name": "stdout",
     "output_type": "stream",
     "text": [
      "[4, 3, 2, 1]\n"
     ]
    },
    {
     "data": {
      "text/plain": [
       "{2}"
      ]
     },
     "execution_count": 6,
     "metadata": {},
     "output_type": "execute_result"
    }
   ],
   "source": [
    "a = {1:'a', 2:'b',3:'c',4:'d'}\n",
    "b = a.keys()\n",
    "b.sort(reverse = True)\n",
    "print b\n",
    "c = set()\n",
    "c.add(1)\n",
    "c.add(2)\n",
    "c.remove(1)\n",
    "c"
   ]
  },
  {
   "cell_type": "code",
   "execution_count": 15,
   "metadata": {
    "collapsed": true
   },
   "outputs": [],
   "source": [
    "\n",
    "\n",
    "def load_results_txt(self, path_to_load):\n",
    "    return 0"
   ]
  },
  {
   "cell_type": "code",
   "execution_count": 33,
   "metadata": {},
   "outputs": [
    {
     "name": "stdout",
     "output_type": "stream",
     "text": [
      "Overwriting swisspair.py\n"
     ]
    }
   ],
   "source": [
    "%%writefile swisspair.py\n",
    "'''\n",
    "A pairing algoirthm using swiss tournament algorithm for one round\n",
    "'''\n",
    "#time complexity: O(n^2.3) where n = 30 (30 images in each query)\n",
    "import networkx as nx\n",
    "\n",
    "try:\n",
    "    import cPickle as pickle\n",
    "except:\n",
    "    import pickle as pickle\n",
    "\n",
    "import csv\n",
    "import random\n",
    "\n",
    "class Tournament(object):\n",
    "    def __init__(self, win_points = 3, draw_points = 1):\n",
    "        #win_points: point get if  win\n",
    "        #draw_points: point get if it is a draw\n",
    "        #bye_points: point get if the player is not paired first time.\n",
    "        self.win_points = 3\n",
    "        self.draw_points = 1\n",
    "        self.bye_points = 1\n",
    "        \n",
    "        #palyers: Will hold all player data\n",
    "        #'id' would be Murl Key. 'name' is the full name of the url\n",
    "        '''\n",
    "        id : { name:String,\n",
    "               opponents:List, Each entry is a id number of someone you played\n",
    "               results:List, Each entry is a list of (win, loss, draw) for the round\n",
    "               points:Int, how many point this player gets so far}\n",
    "        '''\n",
    "        self.players = {}\n",
    "        \n",
    "        #Current round for the event\n",
    "        self.current_round = 0\n",
    "\n",
    "        #Pairings for the current round\n",
    "        self.round_pairings = []\n",
    "\n",
    "        #Contains lists of players sorted by the score they currently get in the event\n",
    "        self.players_sortby_points = {}\n",
    "\n",
    "        #Contains a list of points in the event from high to low\n",
    "        self.points = []\n",
    "        \n",
    "        #check is this player has received a bye already\n",
    "        self.already_bye = set()\n",
    "\n",
    "    def add_player(self, id, name):\n",
    "        self.players[id] = {\"name\": name,\n",
    "                            \"opponents\":set(),\n",
    "                            \"results\":[],\n",
    "                            \"points\":0}\n",
    "    \n",
    "    #if this the first tournament, read files\n",
    "    def load_players(self, path_to_load):\n",
    "        with open(path_to_load) as players_file:\n",
    "            player_reader = csv.reader(players_file, delimiter=',')\n",
    "            for p in player_reader:\n",
    "                #skip the row with headers\n",
    "                if p[0] != 'ID:':\n",
    "                    self.add_player( int(p[0]), p[1] )         \n",
    "    \n",
    "    #load record\n",
    "    def load_event(self, path_to_load):\n",
    "        [self.current_round, self.players] = pickle.load(open(path_to_load, \"rb\" ) )\n",
    "       \n",
    "    #save the current event for the use of the next round\n",
    "    def save_event(self, path_to_save):\n",
    "        pickle.dump([self.current_round, self.players], open(path_to_save, \"wb\" ))\n",
    "\n",
    "    #pair the players during this round\n",
    "    def pair_round(self):\n",
    "        \"\"\"\n",
    "            1.) Create a map 'players_sortby_points' whose key is 'score' and value is list of players with score 'score'\n",
    "            2.) Create a list of all current points and sort them from highest to lowest\n",
    "            3.) Loop through the 'players_sortby_points' and assign pairs between players having the same score\n",
    "            and not paired before\n",
    "            4.) Check for left over players and pairs the left over with the players in the next group.\n",
    "            Make sure these left over players get paired first because they have higher scores.\n",
    "            Note: step (3) and step (4) is implementd using the maximum-matching graph algorithm\n",
    "        \"\"\"\n",
    "        \n",
    "        self.current_round += 1\n",
    "        self.round_pairings = []\n",
    "        self.players_sortby_points = {}\n",
    "        self.points = []\n",
    "        \n",
    "        #create 'players_sortby_points': group palyers by their score\n",
    "        for player in self.players:\n",
    "            info = self.players[player]\n",
    "\n",
    "            #If this point has not accored\n",
    "            if info['points'] not in self.players_sortby_points:\n",
    "                self.players_sortby_points[info['points']] = []\n",
    "\n",
    "            #Add player to the correct group\n",
    "            self.players_sortby_points[info['points']].append(player)\n",
    "\n",
    "        #crate 'points': all unique points of all current points and sort them from hight to low\n",
    "        self.points.extend(self.players_sortby_points.keys())\n",
    "        self.points.sort(reverse=True)\n",
    "        #printdbg( \"All points sorted from high to low: %s\"%self.points, 3 )\n",
    "\n",
    "        #Start paring the players.  \n",
    "        for points in self.points:\n",
    "            #Create the graph object for the group with same score\n",
    "            graph = nx.Graph()\n",
    "            #add palyers into the graph\n",
    "            graph.add_nodes_from(self.players_sortby_points[points])\n",
    "\n",
    "            #Create edges between all players in the graph who haven't already played with each other\n",
    "            #If there are left overs in current group, we will pair them with the ones in the next group\n",
    "            #Python does not have 'maximum matching', it only has 'maximal matching' and '\n",
    "            #maximum weight matching' algorithm. So,I will use the maximum weight matching by assining 'weight'.\n",
    "            #The player with score higher than group score is assinged with a high score to make sure it gets paired \n",
    "            #first\n",
    "            for player in graph.nodes():\n",
    "                for opponent in graph.nodes():\n",
    "                    if opponent not in self.players[player][\"opponents\"] and player != opponent:\n",
    "                        wgt = 1\n",
    "                        if self.players[player][\"points\"] > int(points) or self.players[opponent][\"points\"] > int(points):\n",
    "                            wgt = 10\n",
    "                        #Create edge\n",
    "                        graph.add_edge(player, opponent, weight=wgt)\n",
    "\n",
    "            #pairing the players            \n",
    "            pairings = nx.max_weight_matching(graph)\n",
    "\n",
    "            #Pair the players. After pairing, remove them from the group, you do not need to repair again\n",
    "            for p in pairings:\n",
    "                if p in self.players_sortby_points[points]:\n",
    "                    self.pair_players(p, pairings[p])\n",
    "                    self.players_sortby_points[points].remove(p)\n",
    "                    self.players_sortby_points[points].remove(pairings[p])\n",
    "\n",
    "            #Check if we have palyer left out without pairing\n",
    "            if len(self.players_sortby_points[points]) > 0:      \n",
    "                #if these are the people left over after all pairing, it will be \n",
    "                #assigned to the next round and get a score.\n",
    "                if self.points.index(points) + 1 == len(self.points):\n",
    "                    while len(self.players_sortby_points[points]) > 0:\n",
    "                        #If they are the last player give them a bye\n",
    "                        self.assign_bye(self.players_sortby_points[points].pop())\n",
    "                else:\n",
    "                    #Add left-over players to the next point group down\n",
    "                    next_points = self.points[self.points.index(points) + 1]\n",
    "                    while len(self.players_sortby_points[points]) > 0:\n",
    "                        self.players_sortby_points[next_points].append(self.players_sortby_points[points].pop())\n",
    "        \n",
    "        return self.round_pairings \n",
    "       \n",
    "    \n",
    "    def pair_players(self, p1, p2 ):\n",
    "        self.players[p1][\"opponents\"].add(p2)\n",
    "        self.players[p2][\"opponents\"].add(p1)\n",
    "        self.round_pairings.append([p1, p2])\n",
    "\n",
    "    def assign_bye(self, p1, reason=\"bye\"):\n",
    "        self.players[p1][\"results\"].append(1)\n",
    "        self.players[p1][\"opponents\"].add(\"bye\")\n",
    "        \n",
    "        #left over player receives a bye point if it has never received before\n",
    "        if p1 not in self.already_bye:\n",
    "            self.already_bye.add(p1)\n",
    "            self.players[p1][\"points\"] += self.bye_points\n",
    "    \n",
    "    def report_match(self, results):\n",
    "        #result is [p1, p2, game_result]\n",
    "        for result in results:\n",
    "            p1 = result[0]\n",
    "            p2 = result[1]\n",
    "            game_result = result[2]\n",
    "\n",
    "            if game_result == 0:\n",
    "                #If it is a draw\n",
    "                self.players[p1][\"points\"] += self.draw_points\n",
    "                self.players[p2][\"points\"] += self.draw_points\n",
    "            #left win\n",
    "            elif game_result == 1:\n",
    "                self.players[p1][\"points\"] += self.win_points\n",
    "            #right win\n",
    "            else:\n",
    "                self.players[p2][\"points\"] += self.win_points\n",
    "            \n",
    "            self.players[p1][\"results\"].append(game_result)\n",
    "            self.players[p2][\"results\"].append(-1 * game_result)"
   ]
  },
  {
   "cell_type": "code",
   "execution_count": null,
   "metadata": {
    "collapsed": true
   },
   "outputs": [],
   "source": [
    "def printdbg( msg, dbg = True, debuglevel, level=1):\n",
    "    if dbg == True and level <= debuglevel:\n",
    "        print(msg)"
   ]
  },
  {
   "cell_type": "code",
   "execution_count": 12,
   "metadata": {},
   "outputs": [
    {
     "name": "stdout",
     "output_type": "stream",
     "text": [
      "{1: {2: {'weight': 1}, 3: {'weight': 5}, 4: {'weight': 2}}, 2: {1: {'weight': 1}, 3: {'weight': 6}, 4: {'weight': 3}}, 3: {1: {'weight': 5}, 2: {'weight': 6}, 4: {'weight': 4}}, 4: {1: {'weight': 2}, 2: {'weight': 3}, 3: {'weight': 4}}, 5: {6: {'weight': 4}}, 6: {5: {'weight': 4}, 7: {'weight': 5}}, 7: {6: {'weight': 5}}, 8: {9: {'weight': 6}}, 9: {8: {'weight': 6}}, 11: {}, 12: {}}\n",
      "[1, 2, 3, 4, 5, 6, 7, 8, 9, 11, 12]\n"
     ]
    },
    {
     "data": {
      "image/png": "[encoded data removed]",
      "text/plain": [
       "<matplotlib.figure.Figure at 0x98d07f0>"
      ]
     },
     "metadata": {},
     "output_type": "display_data"
    }
   ],
   "source": [
    "import matplotlib.pyplot as plt\n",
    "graph = nx.Graph()\n",
    "graph.add_nodes_from([11, 12])\n",
    "graph.add_edge(1,2,weight = 1)\n",
    "graph.add_edge(1,3,weight = 5)\n",
    "graph.add_edge(1,4,weight = 2)\n",
    "graph.add_edge(2,3,weight = 6)\n",
    "graph.add_edge(2,4,weight = 3)\n",
    "graph.add_edge(3,4,weight = 4)\n",
    "graph.add_edge(5,6,weight = 4)\n",
    "graph.add_edge(6,7,weight = 5)\n",
    "graph.add_edge(8,9,weight = 6)\n",
    "pos = nx.spring_layout(graph)\n",
    "nx.draw(graph, pos, node_color='r', edge_color='b')\n",
    "print graph.adj\n",
    "print graph.nodes()\n",
    "plt.show()"
   ]
  },
  {
   "cell_type": "code",
   "execution_count": 24,
   "metadata": {},
   "outputs": [
    {
     "data": {
      "text/plain": [
       "[1, 2, 3, 4, 5]"
      ]
     },
     "execution_count": 24,
     "metadata": {},
     "output_type": "execute_result"
    }
   ],
   "source": [
    "a = [1,2,3]\n",
    "a.extend([4,5])\n",
    "a"
   ]
  },
  {
   "cell_type": "code",
   "execution_count": 34,
   "metadata": {
    "collapsed": true
   },
   "outputs": [],
   "source": [
    "import pandas as pd"
   ]
  },
  {
   "cell_type": "code",
   "execution_count": 67,
   "metadata": {},
   "outputs": [
    {
     "name": "stdout",
     "output_type": "stream",
     "text": [
      "17\n"
     ]
    },
    {
     "data": {
      "text/html": [
       "<div>\n",
       "<style>\n",
       "    .dataframe thead tr:only-child th {\n",
       "        text-align: right;\n",
       "    }\n",
       "\n",
       "    .dataframe thead th {\n",
       "        text-align: left;\n",
       "    }\n",
       "\n",
       "    .dataframe tbody tr th {\n",
       "        vertical-align: top;\n",
       "    }\n",
       "</style>\n",
       "<table border=\"1\" class=\"dataframe\">\n",
       "  <thead>\n",
       "    <tr style=\"text-align: right;\">\n",
       "      <th></th>\n",
       "      <th>ID:</th>\n",
       "      <th>Name:</th>\n",
       "      <th>Fixed Seating:</th>\n",
       "    </tr>\n",
       "  </thead>\n",
       "  <tbody>\n",
       "    <tr>\n",
       "      <th>0</th>\n",
       "      <td>1</td>\n",
       "      <td>Jeff</td>\n",
       "      <td>NaN</td>\n",
       "    </tr>\n",
       "    <tr>\n",
       "      <th>1</th>\n",
       "      <td>2</td>\n",
       "      <td>Timmy</td>\n",
       "      <td>NaN</td>\n",
       "    </tr>\n",
       "    <tr>\n",
       "      <th>2</th>\n",
       "      <td>3</td>\n",
       "      <td>John</td>\n",
       "      <td>NaN</td>\n",
       "    </tr>\n",
       "    <tr>\n",
       "      <th>3</th>\n",
       "      <td>4</td>\n",
       "      <td>Blarg</td>\n",
       "      <td>NaN</td>\n",
       "    </tr>\n",
       "    <tr>\n",
       "      <th>4</th>\n",
       "      <td>5</td>\n",
       "      <td>Yeti</td>\n",
       "      <td>NaN</td>\n",
       "    </tr>\n",
       "    <tr>\n",
       "      <th>5</th>\n",
       "      <td>6</td>\n",
       "      <td>Yugen</td>\n",
       "      <td>NaN</td>\n",
       "    </tr>\n",
       "    <tr>\n",
       "      <th>6</th>\n",
       "      <td>7</td>\n",
       "      <td>Blogger</td>\n",
       "      <td>NaN</td>\n",
       "    </tr>\n",
       "    <tr>\n",
       "      <th>7</th>\n",
       "      <td>8</td>\n",
       "      <td>Kelly</td>\n",
       "      <td>NaN</td>\n",
       "    </tr>\n",
       "    <tr>\n",
       "      <th>8</th>\n",
       "      <td>9</td>\n",
       "      <td>Clark</td>\n",
       "      <td>NaN</td>\n",
       "    </tr>\n",
       "    <tr>\n",
       "      <th>9</th>\n",
       "      <td>10</td>\n",
       "      <td>James</td>\n",
       "      <td>NaN</td>\n",
       "    </tr>\n",
       "    <tr>\n",
       "      <th>10</th>\n",
       "      <td>11</td>\n",
       "      <td>Jonny</td>\n",
       "      <td>NaN</td>\n",
       "    </tr>\n",
       "    <tr>\n",
       "      <th>11</th>\n",
       "      <td>12</td>\n",
       "      <td>Jacob</td>\n",
       "      <td>1.0</td>\n",
       "    </tr>\n",
       "    <tr>\n",
       "      <th>12</th>\n",
       "      <td>13</td>\n",
       "      <td>Kristi</td>\n",
       "      <td>2.0</td>\n",
       "    </tr>\n",
       "    <tr>\n",
       "      <th>13</th>\n",
       "      <td>14</td>\n",
       "      <td>Brian</td>\n",
       "      <td>NaN</td>\n",
       "    </tr>\n",
       "    <tr>\n",
       "      <th>14</th>\n",
       "      <td>15</td>\n",
       "      <td>Johnson</td>\n",
       "      <td>NaN</td>\n",
       "    </tr>\n",
       "    <tr>\n",
       "      <th>15</th>\n",
       "      <td>16</td>\n",
       "      <td>Kenny</td>\n",
       "      <td>NaN</td>\n",
       "    </tr>\n",
       "    <tr>\n",
       "      <th>16</th>\n",
       "      <td>17</td>\n",
       "      <td>Carrie</td>\n",
       "      <td>NaN</td>\n",
       "    </tr>\n",
       "  </tbody>\n",
       "</table>\n",
       "</div>"
      ],
      "text/plain": [
       "    ID:    Name:  Fixed Seating:\n",
       "0     1     Jeff             NaN\n",
       "1     2    Timmy             NaN\n",
       "2     3     John             NaN\n",
       "3     4    Blarg             NaN\n",
       "4     5     Yeti             NaN\n",
       "5     6    Yugen             NaN\n",
       "6     7  Blogger             NaN\n",
       "7     8    Kelly             NaN\n",
       "8     9    Clark             NaN\n",
       "9    10    James             NaN\n",
       "10   11    Jonny             NaN\n",
       "11   12    Jacob             1.0\n",
       "12   13   Kristi             2.0\n",
       "13   14    Brian             NaN\n",
       "14   15  Johnson             NaN\n",
       "15   16    Kenny             NaN\n",
       "16   17   Carrie             NaN"
      ]
     },
     "execution_count": 67,
     "metadata": {},
     "output_type": "execute_result"
    }
   ],
   "source": [
    "players_list = pd.read_csv(\"playerlist.csv\")\n",
    "print len(players_list)\n",
    "players_list\n",
    "\n",
    "for i in xrange(len(players_list)):\n",
    "    players_list.set_value(i, \"ID:\", i + 1)\n",
    "\n",
    "players_list"
   ]
  },
  {
   "cell_type": "code",
   "execution_count": 69,
   "metadata": {},
   "outputs": [],
   "source": [
    "players_list.to_csv(\"playerlist.csv\", index = False)"
   ]
  },
  {
   "cell_type": "code",
   "execution_count": null,
   "metadata": {
    "collapsed": true
   },
   "outputs": [],
   "source": []
  }
 ],
 "metadata": {
  "kernelspec": {
   "display_name": "Python 2",
   "language": "python",
   "name": "python2"
  },
  "language_info": {
   "codemirror_mode": {
    "name": "ipython",
    "version": 2
   },
   "file_extension": ".py",
   "mimetype": "text/x-python",
   "name": "python",
   "nbconvert_exporter": "python",
   "pygments_lexer": "ipython2",
   "version": "2.7.13"
  }
 },
 "nbformat": 4,
 "nbformat_minor": 2
}
