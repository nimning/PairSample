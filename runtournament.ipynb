{
 "cells": [
  {
   "cell_type": "code",
   "execution_count": 5,
   "metadata": {},
   "outputs": [
    {
     "ename": "ImportError",
     "evalue": "No module named swisspair",
     "output_type": "error",
     "traceback": [
      "\u001b[1;31m---------------------------------------------------------------------------\u001b[0m",
      "\u001b[1;31mImportError\u001b[0m                               Traceback (most recent call last)",
      "\u001b[1;32m<ipython-input-5-e1e3d1dda3f0>\u001b[0m in \u001b[0;36m<module>\u001b[1;34m()\u001b[0m\n\u001b[1;32m----> 1\u001b[1;33m \u001b[1;32mfrom\u001b[0m \u001b[0mswisspair\u001b[0m \u001b[1;32mimport\u001b[0m \u001b[0mTournament\u001b[0m\u001b[1;33m\u001b[0m\u001b[0m\n\u001b[0m\u001b[0;32m      2\u001b[0m \u001b[1;32mimport\u001b[0m \u001b[0mrandom\u001b[0m\u001b[1;33m\u001b[0m\u001b[0m\n\u001b[0;32m      3\u001b[0m \u001b[1;32mimport\u001b[0m \u001b[0mos\u001b[0m\u001b[1;33m\u001b[0m\u001b[0m\n\u001b[0;32m      4\u001b[0m \u001b[1;33m\u001b[0m\u001b[0m\n\u001b[0;32m      5\u001b[0m \u001b[0mtournament\u001b[0m \u001b[1;33m=\u001b[0m \u001b[0mTournament\u001b[0m\u001b[1;33m(\u001b[0m\u001b[1;33m)\u001b[0m\u001b[1;33m\u001b[0m\u001b[0m\n",
      "\u001b[1;31mImportError\u001b[0m: No module named swisspair"
     ]
    }
   ],
   "source": [
    "from swisspair import Tournament\n",
    "import random\n",
    "import os\n",
    "\n",
    "tournament = Tournament()"
   ]
  },
  {
   "cell_type": "code",
   "execution_count": null,
   "metadata": {
    "collapsed": true
   },
   "outputs": [],
   "source": [
    "\n",
    "\n",
    "#for p in range(10):\n",
    "#    to.addPlayer( p, \"Timmy\" )\n",
    "\n",
    "to.loadPlayersCSV(\"playerlist.csv\")\n",
    "\n",
    "pairings1 = to.pairRound()\n",
    "\n",
    "print(pairings1)\n",
    "\n",
    "for table in pairings1:\n",
    "    if not type(pairings1[table]) is str:\n",
    "        per = random.randint(1, 100)\n",
    "        if per < 25:\n",
    "            to.reportMatch(table, [2,0,0])\n",
    "        elif per < 47:\n",
    "            to.reportMatch(table, [2,1,0])\n",
    "        elif per < 60:\n",
    "            to.reportMatch(table, [0,2,0])\n",
    "        elif per < 97:\n",
    "            to.reportMatch(table, [1,2,0])\n",
    "        elif per < 98:\n",
    "            to.reportMatch(table, [0,0,1])\n",
    "        else:\n",
    "            to.reportMatch(table, [1,1,1])\n",
    "\n",
    "to.saveEventData(\"%s/datadump1.txt\"%home)\n",
    "\n",
    "print(\"\")\n",
    "#print to.playersDict[256]\n",
    "print(\"\")"
   ]
  },
  {
   "cell_type": "code",
   "execution_count": null,
   "metadata": {
    "collapsed": true
   },
   "outputs": [],
   "source": [
    "pairings2 = to.pairRound()\n",
    "print(pairings2)\n",
    "\n",
    "for table in pairings2:\n",
    "    if not type(pairings2[table]) is str:\n",
    "        per = random.randint(1, 100)\n",
    "        if per < 25:\n",
    "            to.reportMatch(table, [2,0,0])\n",
    "        elif per < 47:\n",
    "            to.reportMatch(table, [2,1,0])\n",
    "        elif per < 60:\n",
    "            to.reportMatch(table, [0,2,0])\n",
    "        elif per < 97:\n",
    "            to.reportMatch(table, [1,2,0])\n",
    "        elif per < 98:\n",
    "            to.reportMatch(table, [0,0,1])\n",
    "        else:\n",
    "            to.reportMatch(table, [1,1,1])\n",
    "\n",
    "to.saveEventData(\"%s/datadump2.txt\"%home)\n",
    "\n",
    "print(\"\")\n",
    "#print to.playersDict[256]\n",
    "print(\"\")"
   ]
  },
  {
   "cell_type": "code",
   "execution_count": null,
   "metadata": {
    "collapsed": true
   },
   "outputs": [],
   "source": [
    "pairings3 = to.pairRound()\n",
    "\n",
    "print(pairings3)\n",
    "\n",
    "for table in pairings3:\n",
    "    if not type(pairings3[table]) is str:\n",
    "        per = random.randint(1, 100)\n",
    "        if per < 25:\n",
    "            to.reportMatch(table, [2,0,0])\n",
    "        elif per < 47:\n",
    "            to.reportMatch(table, [2,1,0])\n",
    "        elif per < 60:\n",
    "            to.reportMatch(table, [0,2,0])\n",
    "        elif per < 97:\n",
    "            to.reportMatch(table, [1,2,0])\n",
    "        elif per < 98:\n",
    "            to.reportMatch(table, [0,0,1])\n",
    "        else:\n",
    "            to.reportMatch(table, [1,1,1])\n",
    "\n",
    "to.saveEventData(\"%s/datadump3.txt\"%home)\n",
    "\n",
    "print(\"\")\n",
    "#print to.playersDict[256]\n",
    "print(\"\")"
   ]
  },
  {
   "cell_type": "code",
   "execution_count": null,
   "metadata": {
    "collapsed": true
   },
   "outputs": [],
   "source": [
    "pairings4 = to.pairRound()\n",
    "\n",
    "print(pairings4)\n",
    "\n",
    "for table in pairings4:\n",
    "    if not type(pairings4[table]) is str:\n",
    "        per = random.randint(1, 100)\n",
    "        if per < 25:\n",
    "            to.reportMatch(table, [2,0,0])\n",
    "        elif per < 47:\n",
    "            to.reportMatch(table, [2,1,0])\n",
    "        elif per < 60:\n",
    "            to.reportMatch(table, [0,2,0])\n",
    "        elif per < 97:\n",
    "            to.reportMatch(table, [1,2,0])\n",
    "        elif per < 98:\n",
    "            to.reportMatch(table, [0,0,1])\n",
    "        else:\n",
    "            to.reportMatch(table, [1,1,1])\n",
    "\n",
    "to.saveEventData(\"%s/datadump4.txt\"%home)\n",
    "\n",
    "print(\"\")\n",
    "#print to.playersDict[256]\n",
    "print(\"\")"
   ]
  },
  {
   "cell_type": "code",
   "execution_count": null,
   "metadata": {
    "collapsed": true
   },
   "outputs": [],
   "source": [
    "pairings5 = to.pairRound()\n",
    "\n",
    "print(pairings5)\n",
    "\n",
    "for table in pairings5:\n",
    "    if not type(pairings5[table]) is str:\n",
    "        per = random.randint(1, 100)\n",
    "        if per < 25:\n",
    "            to.reportMatch(table, [2,0,0])\n",
    "        elif per < 47:\n",
    "            to.reportMatch(table, [2,1,0])\n",
    "        elif per < 60:\n",
    "            to.reportMatch(table, [0,2,0])\n",
    "        elif per < 97:\n",
    "            to.reportMatch(table, [1,2,0])\n",
    "        elif per < 98:\n",
    "            to.reportMatch(table, [0,0,1])\n",
    "        else:\n",
    "            to.reportMatch(table, [1,1,1])\n",
    "\n",
    "to.saveEventData(\"%s/datadump5.txt\"%home)\n",
    "\n",
    "print(\"\")\n",
    "print(to.playersDict[256])\n",
    "print(\"\")"
   ]
  },
  {
   "cell_type": "code",
   "execution_count": 4,
   "metadata": {},
   "outputs": [
    {
     "name": "stdout",
     "output_type": "stream",
     "text": [
      "['this', 'that', 3]\n"
     ]
    }
   ],
   "source": [
    "a = ['this', 'that', 3]\n",
    "print a"
   ]
  }
 ],
 "metadata": {
  "kernelspec": {
   "display_name": "Python 2",
   "language": "python",
   "name": "python2"
  },
  "language_info": {
   "codemirror_mode": {
    "name": "ipython",
    "version": 2
   },
   "file_extension": ".py",
   "mimetype": "text/x-python",
   "name": "python",
   "nbconvert_exporter": "python",
   "pygments_lexer": "ipython2",
   "version": "2.7.13"
  }
 },
 "nbformat": 4,
 "nbformat_minor": 2
}
